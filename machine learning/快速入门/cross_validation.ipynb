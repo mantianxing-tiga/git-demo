{
 "cells": [
  {
   "cell_type": "markdown",
   "source": [
    "## 超参数调参方法--自动调参\r\n",
    "### 调参的基本思想--交叉验证（Cross Validation）\r\n",
    "* 将样本拆分为 k 个子集，用其中一个子集当做测试集，剩余的 k-1 个子集当作训练集。在这组训练集下训练完模型后，需要评估其性能。之后再换其他子集当做测试集，剩余的子集当做训练集进行模型训练，循环往复，直到所有子集都做过训练集为止。最后计算所有模型的平均性能。\r\n",
    "* 每一组超参数执行一遍上述操作，最后取平均性能最优的一组超参数作为最优参数。\r\n",
    "\r\n",
    "<img src=\"./img/cross_validation.png\" width = \"50%\" height = \"50%\" alt=\"交差验证\"/>"
   ],
   "metadata": {}
  },
  {
   "cell_type": "markdown",
   "source": [
    "## 参数选择\r\n",
    "### 子集划分方式（多种）\r\n",
    "* k-fold：训练集划分为 k 个\r\n",
    "* leave=one-out：子集划分为 n 个\r\n",
    "* hold-out：n 个样本中随机选出 m 个作为测试集\r\n",
    "### 超参数选择\r\n",
    "* grid-search：给出超参数的范围，穷举遍历\r\n",
    "* random search：给出随机的规则，生成一组随机的超参数组合进行遍历\r\n",
    "### 评价指标：\r\n",
    "* 分类问题：分类精度、平衡精度、平均精度\r\n",
    "* 回归问题：最大误差、均方误差、均方根误差\r\n",
    "\r\n",
    "选择通常需要结合具体问题**按照经验**进行选择"
   ],
   "metadata": {}
  },
  {
   "cell_type": "markdown",
   "source": [
    "## 具体实现\r\n",
    "grid-search 方法：`GridSearchCV`\r\n",
    "| 参数 | 说明 |\r\n",
    "| --- | --- |\r\n",
    "| estimator | 想要获取的模型，里面的超参数待调 |\r\n",
    "| param_grid | 备选的超参数，调参要遍历的参数集合 |\r\n",
    "| scoring | 评价指标，输入指标的名称字符串 |\r\n",
    "| cv | 划分为几组 |"
   ],
   "metadata": {}
  },
  {
   "cell_type": "code",
   "execution_count": 2,
   "source": [
    "from sklearn import svm, datasets\r\n",
    "from sklearn.model_selection import GridSearchCV"
   ],
   "outputs": [],
   "metadata": {}
  },
  {
   "cell_type": "code",
   "execution_count": 3,
   "source": [
    "iris = datasets.load_iris()\r\n",
    "parameters = {\r\n",
    "    'kernel': ('linear', 'rbf'),\r\n",
    "    'C': [1, 10]\r\n",
    "}"
   ],
   "outputs": [],
   "metadata": {}
  },
  {
   "cell_type": "code",
   "execution_count": 4,
   "source": [
    "svc = svm.SVC()\r\n",
    "clf = GridSearchCV(svc, parameters)"
   ],
   "outputs": [],
   "metadata": {}
  },
  {
   "cell_type": "code",
   "execution_count": 5,
   "source": [
    "clf.fit(iris.data, iris.target)\r\n",
    "sorted(clf.cv_results_.keys())"
   ],
   "outputs": [
    {
     "output_type": "execute_result",
     "data": {
      "text/plain": [
       "['mean_fit_time',\n",
       " 'mean_score_time',\n",
       " 'mean_test_score',\n",
       " 'param_C',\n",
       " 'param_kernel',\n",
       " 'params',\n",
       " 'rank_test_score',\n",
       " 'split0_test_score',\n",
       " 'split1_test_score',\n",
       " 'split2_test_score',\n",
       " 'split3_test_score',\n",
       " 'split4_test_score',\n",
       " 'std_fit_time',\n",
       " 'std_score_time',\n",
       " 'std_test_score']"
      ]
     },
     "metadata": {},
     "execution_count": 5
    }
   ],
   "metadata": {}
  },
  {
   "cell_type": "code",
   "execution_count": 12,
   "source": [
    "clf.best_estimator_"
   ],
   "outputs": [
    {
     "output_type": "execute_result",
     "data": {
      "text/plain": [
       "SVC(C=1, kernel='linear')"
      ]
     },
     "metadata": {},
     "execution_count": 12
    }
   ],
   "metadata": {}
  },
  {
   "cell_type": "markdown",
   "source": [
    "可以看出，模型依然是 SVC，只有它的超参数被调节了"
   ],
   "metadata": {}
  },
  {
   "cell_type": "code",
   "execution_count": 10,
   "source": [
    "clf.best_params_"
   ],
   "outputs": [
    {
     "output_type": "execute_result",
     "data": {
      "text/plain": [
       "{'C': 1, 'kernel': 'linear'}"
      ]
     },
     "metadata": {},
     "execution_count": 10
    }
   ],
   "metadata": {}
  }
 ],
 "metadata": {
  "orig_nbformat": 4,
  "language_info": {
   "name": "python",
   "version": "3.9.6",
   "mimetype": "text/x-python",
   "codemirror_mode": {
    "name": "ipython",
    "version": 3
   },
   "pygments_lexer": "ipython3",
   "nbconvert_exporter": "python",
   "file_extension": ".py"
  },
  "kernelspec": {
   "name": "python3",
   "display_name": "Python 3.9.6 64-bit ('machine_learning': conda)"
  },
  "interpreter": {
   "hash": "251f5cac3a907ccaad7a566cda4c3175bbc39d20c47c13e3efebe13efddd5b56"
  }
 },
 "nbformat": 4,
 "nbformat_minor": 2
}