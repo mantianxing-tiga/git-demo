{
 "cells": [
  {
   "cell_type": "markdown",
   "source": [
    "## 机器学习的通用模式"
   ],
   "metadata": {}
  },
  {
   "cell_type": "code",
   "execution_count": 1,
   "source": [
    "import numpy as np\r\n",
    "from sklearn.svm import SVR"
   ],
   "outputs": [],
   "metadata": {}
  },
  {
   "cell_type": "markdown",
   "source": [
    "$y = 1 * x_0 + 2 * x_1 + 3$"
   ],
   "metadata": {}
  },
  {
   "cell_type": "code",
   "execution_count": 3,
   "source": [
    "X = np.array([[1, 1], [1, 2], [2, 2], [2, 3]])\r\n",
    "y = np.dot(X, np.array([1, 2])) + 3\r\n",
    "print(X, '\\n'*2, y)"
   ],
   "outputs": [
    {
     "output_type": "stream",
     "name": "stdout",
     "text": [
      "[[1 1]\n",
      " [1 2]\n",
      " [2 2]\n",
      " [2 3]] \n",
      "\n",
      " [ 6  8  9 11]\n"
     ]
    }
   ],
   "metadata": {}
  },
  {
   "cell_type": "code",
   "execution_count": 4,
   "source": [
    "model = SVR()\r\n",
    "model.fit(X,y)\r\n",
    "model.predict(X)"
   ],
   "outputs": [
    {
     "output_type": "execute_result",
     "data": {
      "text/plain": [
       "array([7.44500403, 8.09999999, 8.90000001, 9.55499597])"
      ]
     },
     "metadata": {},
     "execution_count": 4
    }
   ],
   "metadata": {}
  },
  {
   "cell_type": "markdown",
   "source": [
    "## 此模型精度并没有线性回归好，需要调整超参\r\n",
    "### 超参数：\r\n",
    "* 核函数及其参数\r\n",
    "* 惩罚系数"
   ],
   "metadata": {}
  },
  {
   "cell_type": "code",
   "execution_count": 5,
   "source": [
    "# 核函数=高斯型; 核参数=1; 惩罚系数=100\r\n",
    "model = SVR(kernel='rbf', gamma = 1, C = 100)\r\n",
    "model.fit(X, y)\r\n",
    "model.predict(X)"
   ],
   "outputs": [
    {
     "output_type": "execute_result",
     "data": {
      "text/plain": [
       "array([ 6.1       ,  7.93810802,  9.06189198, 10.9       ])"
      ]
     },
     "metadata": {},
     "execution_count": 5
    }
   ],
   "metadata": {}
  },
  {
   "cell_type": "markdown",
   "source": [
    "### 可以看出，运行结果好了一些"
   ],
   "metadata": {}
  },
  {
   "cell_type": "markdown",
   "source": [
    "## 常用模型\r\n",
    "\r\n",
    "| 名称 | 命名空间 |\r\n",
    "|---|---|\r\n",
    "| 线性模型 | [LinearModels](https://scikit-learn.org/stable/modules/linear_model.html) |\r\n",
    "| 神经网络 | [trtneural_network](https://scikit-learn.org/stable/modules/classes.html#module-sklearn.neural_network)|\r\n",
    "| 支持向量机 | [SVM](https://scikit-learn.org/stable/modules/svm.html) |\r\n",
    "| 高斯过程 | [gaussian_process](https://scikit-learn.org/stable/modules/gaussian_process.html) |\r\n",
    "| 决策树 | [tree](https://scikit-learn.org/stable/modules/tree.html) |\r\n",
    "| 随机森林 | [ensemble.RandomForestRegressor](https://scikit-learn.org/stable/modules/generated/sklearn.ensemble.RandomForestRegressor.html#sklearn.ensemble.RandomForestRegressor) |"
   ],
   "metadata": {}
  }
 ],
 "metadata": {
  "orig_nbformat": 4,
  "language_info": {
   "name": "python",
   "version": "3.9.6",
   "mimetype": "text/x-python",
   "codemirror_mode": {
    "name": "ipython",
    "version": 3
   },
   "pygments_lexer": "ipython3",
   "nbconvert_exporter": "python",
   "file_extension": ".py"
  },
  "kernelspec": {
   "name": "python3",
   "display_name": "Python 3.9.6 64-bit ('machine_learning': conda)"
  },
  "interpreter": {
   "hash": "251f5cac3a907ccaad7a566cda4c3175bbc39d20c47c13e3efebe13efddd5b56"
  }
 },
 "nbformat": 4,
 "nbformat_minor": 2
}