{
 "cells": [
  {
   "cell_type": "markdown",
   "source": [
    "# JC 模型\r\n",
    "最简单的光与原子相互作用的模型：单模腔中的二能级原子（偶极相互作用）\r\n"
   ],
   "metadata": {}
  },
  {
   "cell_type": "markdown",
   "source": [
    "## 哈密顿量\r\n",
    "$$\r\n",
    "H = \\hbar \\omega_c a^\\dagger a + \\frac{1}{2}\\hbar \\omega_a \\sigma_z + \\hbar g (a + a^\\dagger)(\\sigma_- + \\sigma_+)\r\n",
    "$$"
   ],
   "metadata": {}
  },
  {
   "cell_type": "markdown",
   "source": [
    "## 旋波近似下（RWA）\r\n",
    "忽略掉高频震荡\r\n",
    "哈密顿量为\r\n",
    "$$\r\n",
    "H = \\hbar \\omega_c a^\\dagger a + \\frac{1}{2}\\hbar \\omega_a \\sigma_z + \\hbar g (a\\sigma_+ + a^\\dagger \\sigma_-)\r\n",
    "$$"
   ],
   "metadata": {}
  },
  {
   "cell_type": "markdown",
   "source": [
    "### 这里，我们令 $\\hbar = 1$"
   ],
   "metadata": {}
  },
  {
   "cell_type": "code",
   "execution_count": 1,
   "source": [
    "# 导入必要的包\r\n",
    "import matplotlib.pyplot as plt\r\n",
    "import numpy as np \r\n",
    "from qutip import *"
   ],
   "outputs": [],
   "metadata": {}
  },
  {
   "cell_type": "code",
   "execution_count": 2,
   "source": [
    "# 定义相关常数\r\n",
    "omega_c = 1.0 * 2 * np.pi # 腔频\r\n",
    "omega_a = 1.0 * 2 * np.pi # 原子跃迁频率\r\n",
    "g = 0.05 * 2 * np.pi # 耦合强度\r\n",
    "kappa = 0.005 # 腔耗散率\r\n",
    "gamma = 0.05 # 原子耗散率\r\n",
    "N = 15 # 腔最大光子数（在15处截断）\r\n",
    "n_th_a = 0 # 热激发平均光子数\r\n",
    "use_rwa = True # 取旋波近似\r\n",
    "\r\n",
    "# 演化时间\r\n",
    "tlist = np.linspace(0, 25, 101)"
   ],
   "outputs": [],
   "metadata": {}
  },
  {
   "cell_type": "code",
   "execution_count": null,
   "source": [],
   "outputs": [],
   "metadata": {}
  }
 ],
 "metadata": {
  "orig_nbformat": 4,
  "language_info": {
   "name": "python",
   "version": "3.9.7",
   "mimetype": "text/x-python",
   "codemirror_mode": {
    "name": "ipython",
    "version": 3
   },
   "pygments_lexer": "ipython3",
   "nbconvert_exporter": "python",
   "file_extension": ".py"
  },
  "kernelspec": {
   "name": "python3",
   "display_name": "Python 3.9.7 64-bit ('qutip_env': conda)"
  },
  "interpreter": {
   "hash": "9f30c926f29d7795a8de6ac9e3568a20b471e5ad7fd85382f825cfd7cd6addb9"
  }
 },
 "nbformat": 4,
 "nbformat_minor": 2
}