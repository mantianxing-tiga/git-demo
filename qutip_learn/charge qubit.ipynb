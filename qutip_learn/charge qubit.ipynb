{
 "cells": [
  {
   "cell_type": "markdown",
   "source": [
    "# Charge qubits"
   ],
   "metadata": {}
  },
  {
   "cell_type": "markdown",
   "source": [],
   "metadata": {}
  }
 ],
 "metadata": {
  "orig_nbformat": 4,
  "language_info": {
   "name": "python",
   "version": "3.9.7"
  },
  "kernelspec": {
   "name": "python3",
   "display_name": "Python 3.9.7 64-bit ('qutip_env': conda)"
  },
  "interpreter": {
   "hash": "9f30c926f29d7795a8de6ac9e3568a20b471e5ad7fd85382f825cfd7cd6addb9"
  }
 },
 "nbformat": 4,
 "nbformat_minor": 2
}