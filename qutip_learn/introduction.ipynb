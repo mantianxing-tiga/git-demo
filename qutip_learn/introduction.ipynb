{
 "cells": [
  {
   "cell_type": "code",
   "execution_count": 1,
   "source": [
    "%matplotlib inline\r\n",
    "import matplotlib.pyplot as plt\r\n",
    "import numpy as np\r\n",
    "from IPython.display import Image"
   ],
   "outputs": [
    {
     "output_type": "stream",
     "name": "stderr",
     "text": [
      "\n",
      "Bad key date.converter in file C:\\Users\\Administrator\\.conda\\envs\\qutip_env\\lib\\site-packages\\matplotlib\\mpl-data\\stylelib\\classic.mplstyle, line 235 (\"date.converter:                  auto  # 'auto', 'concise'\")\n",
      "You probably need to get an updated matplotlibrc file from\n",
      "https://github.com/matplotlib/matplotlib/blob/v3.3.2/matplotlibrc.template\n",
      "or from the matplotlib source distribution\n"
     ]
    }
   ],
   "metadata": {}
  },
  {
   "cell_type": "code",
   "execution_count": null,
   "source": [],
   "outputs": [],
   "metadata": {}
  }
 ],
 "metadata": {
  "orig_nbformat": 4,
  "language_info": {
   "name": "python",
   "version": "3.8.5",
   "mimetype": "text/x-python",
   "codemirror_mode": {
    "name": "ipython",
    "version": 3
   },
   "pygments_lexer": "ipython3",
   "nbconvert_exporter": "python",
   "file_extension": ".py"
  },
  "kernelspec": {
   "name": "python3",
   "display_name": "Python 3.8.5 64-bit ('qutip_env': conda)"
  },
  "interpreter": {
   "hash": "e6617715f7eddbefb83d3f6d6de977537c734b23c12ab0f82f9a7354f680fcc0"
  }
 },
 "nbformat": 4,
 "nbformat_minor": 2
}