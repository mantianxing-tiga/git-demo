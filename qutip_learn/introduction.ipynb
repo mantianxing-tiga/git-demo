{
 "cells": [
  {
   "cell_type": "code",
   "execution_count": 2,
   "source": [
    "%matplotlib inline\r\n",
    "\r\n",
    "import matplotlib.pyplot as plt\r\n",
    "import numpy as np\r\n",
    "from IPython.display import Image"
   ],
   "outputs": [],
   "metadata": {}
  },
  {
   "cell_type": "code",
   "execution_count": 3,
   "source": [
    "# 导入 qutip\r\n",
    "from qutip import *"
   ],
   "outputs": [],
   "metadata": {}
  },
  {
   "cell_type": "code",
   "execution_count": 4,
   "source": [
    "# 找到 qutip 的路径\r\n",
    "import qutip\r\n",
    "path = qutip.__file__\r\n",
    "path"
   ],
   "outputs": [
    {
     "output_type": "execute_result",
     "data": {
      "text/plain": [
       "'D:\\\\conda\\\\envs\\\\qutip_env\\\\lib\\\\site-packages\\\\qutip\\\\__init__.py'"
      ]
     },
     "metadata": {},
     "execution_count": 4
    }
   ],
   "metadata": {}
  },
  {
   "cell_type": "markdown",
   "source": [
    "`Qobj` 表示量子态或着算符，该类中包含了描述量子系统的信息：\r\n",
    "* 矩阵表示\r\n",
    "* 复结构\r\n",
    "* 维度"
   ],
   "metadata": {}
  },
  {
   "cell_type": "markdown",
   "source": [
    "## 创建和探索 `Qobj`"
   ],
   "metadata": {}
  },
  {
   "cell_type": "code",
   "execution_count": 5,
   "source": [
    "# 创建一个态矢量(列矢量)\r\n",
    "q = Qobj([[1], [0], [0]])\r\n",
    "q"
   ],
   "outputs": [
    {
     "output_type": "execute_result",
     "data": {
      "text/latex": [
       "Quantum object: dims = [[3], [1]], shape = (3, 1), type = ket\\begin{equation*}\\left(\\begin{array}{*{11}c}1.0\\\\0.0\\\\0.0\\\\\\end{array}\\right)\\end{equation*}"
      ],
      "text/plain": [
       "Quantum object: dims = [[3], [1]], shape = (3, 1), type = ket\n",
       "Qobj data =\n",
       "[[1.]\n",
       " [0.]\n",
       " [0.]]"
      ]
     },
     "metadata": {},
     "execution_count": 5
    }
   ],
   "metadata": {}
  },
  {
   "cell_type": "markdown",
   "source": [
    "## `Qobj` 对象有很多属性，这些属性代表了量子系统的信息"
   ],
   "metadata": {}
  },
  {
   "cell_type": "code",
   "execution_count": 6,
   "source": [
    "# 维度\r\n",
    "q.dims"
   ],
   "outputs": [
    {
     "output_type": "execute_result",
     "data": {
      "text/plain": [
       "[[3], [1]]"
      ]
     },
     "metadata": {},
     "execution_count": 6
    }
   ],
   "metadata": {}
  },
  {
   "cell_type": "code",
   "execution_count": 7,
   "source": [
    "# 矩阵的形状\r\n",
    "q.shape"
   ],
   "outputs": [
    {
     "output_type": "execute_result",
     "data": {
      "text/plain": [
       "(3, 1)"
      ]
     },
     "metadata": {},
     "execution_count": 7
    }
   ],
   "metadata": {}
  },
  {
   "cell_type": "code",
   "execution_count": 8,
   "source": [
    "# 矩阵本身的信息以及数据\r\n",
    "q.data"
   ],
   "outputs": [
    {
     "output_type": "execute_result",
     "data": {
      "text/plain": [
       "<3x1 sparse matrix of type '<class 'numpy.complex128'>'\n",
       "\twith 1 stored elements in Compressed Sparse Row format>"
      ]
     },
     "metadata": {},
     "execution_count": 8
    }
   ],
   "metadata": {}
  },
  {
   "cell_type": "code",
   "execution_count": 9,
   "source": [
    "# 矩阵的全表示（包含所有的数据信息）\r\n",
    "q.full()"
   ],
   "outputs": [
    {
     "output_type": "execute_result",
     "data": {
      "text/plain": [
       "array([[1.+0.j],\n",
       "       [0.+0.j],\n",
       "       [0.+0.j]])"
      ]
     },
     "metadata": {},
     "execution_count": 9
    }
   ],
   "metadata": {}
  },
  {
   "cell_type": "code",
   "execution_count": 10,
   "source": [
    "# 量子对象的其他信息（是否厄米，什么类型的矩阵）\r\n",
    "print(q.isherm)\r\n",
    "print(q.type)"
   ],
   "outputs": [
    {
     "output_type": "stream",
     "name": "stdout",
     "text": [
      "False\n",
      "ket\n"
     ]
    }
   ],
   "metadata": {}
  },
  {
   "cell_type": "markdown",
   "source": [
    "## 利用 `Qobj` 参与计算"
   ],
   "metadata": {}
  },
  {
   "cell_type": "code",
   "execution_count": 11,
   "source": [
    "# 构造 pauli-y 算符\r\n",
    "sigmaY = Qobj([[0, -1j], [1j, 0]])\r\n",
    "sigmaY"
   ],
   "outputs": [
    {
     "output_type": "execute_result",
     "data": {
      "text/latex": [
       "Quantum object: dims = [[2], [2]], shape = (2, 2), type = oper, isherm = True\\begin{equation*}\\left(\\begin{array}{*{11}c}0.0 & -1.0j\\\\1.0j & 0.0\\\\\\end{array}\\right)\\end{equation*}"
      ],
      "text/plain": [
       "Quantum object: dims = [[2], [2]], shape = (2, 2), type = oper, isherm = True\n",
       "Qobj data =\n",
       "[[0.+0.j 0.-1.j]\n",
       " [0.+1.j 0.+0.j]]"
      ]
     },
     "metadata": {},
     "execution_count": 11
    }
   ],
   "metadata": {}
  },
  {
   "cell_type": "code",
   "execution_count": 12,
   "source": [
    "# 构造 Pauli-z 算符\r\n",
    "sigmaZ = Qobj([\r\n",
    "    [1, 0],\r\n",
    "    [0, -1]\r\n",
    "])\r\n",
    "sigmaZ"
   ],
   "outputs": [
    {
     "output_type": "execute_result",
     "data": {
      "text/latex": [
       "Quantum object: dims = [[2], [2]], shape = (2, 2), type = oper, isherm = True\\begin{equation*}\\left(\\begin{array}{*{11}c}1.0 & 0.0\\\\0.0 & -1.0\\\\\\end{array}\\right)\\end{equation*}"
      ],
      "text/plain": [
       "Quantum object: dims = [[2], [2]], shape = (2, 2), type = oper, isherm = True\n",
       "Qobj data =\n",
       "[[ 1.  0.]\n",
       " [ 0. -1.]]"
      ]
     },
     "metadata": {},
     "execution_count": 12
    }
   ],
   "metadata": {}
  },
  {
   "cell_type": "code",
   "execution_count": 13,
   "source": [
    "# 利用上述 Pauli 算符构造哈密顿量\r\n",
    "H = 1 * sigmaZ + 0.1 * sigmaY  \r\n",
    "H"
   ],
   "outputs": [
    {
     "output_type": "execute_result",
     "data": {
      "text/latex": [
       "Quantum object: dims = [[2], [2]], shape = (2, 2), type = oper, isherm = True\\begin{equation*}\\left(\\begin{array}{*{11}c}1.0 & -0.100j\\\\0.100j & -1.0\\\\\\end{array}\\right)\\end{equation*}"
      ],
      "text/plain": [
       "Quantum object: dims = [[2], [2]], shape = (2, 2), type = oper, isherm = True\n",
       "Qobj data =\n",
       "[[ 1.+0.j   0.-0.1j]\n",
       " [ 0.+0.1j -1.+0.j ]]"
      ]
     },
     "metadata": {},
     "execution_count": 13
    }
   ],
   "metadata": {}
  },
  {
   "cell_type": "code",
   "execution_count": 14,
   "source": [
    "H.full()"
   ],
   "outputs": [
    {
     "output_type": "execute_result",
     "data": {
      "text/plain": [
       "array([[ 1.+0.j ,  0.-0.1j],\n",
       "       [ 0.+0.1j, -1.+0.j ]])"
      ]
     },
     "metadata": {},
     "execution_count": 14
    }
   ],
   "metadata": {}
  },
  {
   "cell_type": "code",
   "execution_count": 15,
   "source": [
    "# 求厄米共轭\r\n",
    "sigmaY.dag()"
   ],
   "outputs": [
    {
     "output_type": "execute_result",
     "data": {
      "text/latex": [
       "Quantum object: dims = [[2], [2]], shape = (2, 2), type = oper, isherm = True\\begin{equation*}\\left(\\begin{array}{*{11}c}0.0 & -1.0j\\\\1.0j & 0.0\\\\\\end{array}\\right)\\end{equation*}"
      ],
      "text/plain": [
       "Quantum object: dims = [[2], [2]], shape = (2, 2), type = oper, isherm = True\n",
       "Qobj data =\n",
       "[[0.+0.j 0.-1.j]\n",
       " [0.+1.j 0.+0.j]]"
      ]
     },
     "metadata": {},
     "execution_count": 15
    }
   ],
   "metadata": {}
  },
  {
   "cell_type": "code",
   "execution_count": 16,
   "source": [
    "# 求 trace\r\n",
    "H.tr()"
   ],
   "outputs": [
    {
     "output_type": "execute_result",
     "data": {
      "text/plain": [
       "0.0"
      ]
     },
     "metadata": {},
     "execution_count": 16
    }
   ],
   "metadata": {}
  },
  {
   "cell_type": "code",
   "execution_count": 17,
   "source": [
    "# 求能量本征值\r\n",
    "H.eigenenergies()"
   ],
   "outputs": [
    {
     "output_type": "execute_result",
     "data": {
      "text/plain": [
       "array([-1.00498756,  1.00498756])"
      ]
     },
     "metadata": {},
     "execution_count": 17
    }
   ],
   "metadata": {}
  },
  {
   "cell_type": "markdown",
   "source": [
    "## 内置态矢量和算符"
   ],
   "metadata": {}
  },
  {
   "cell_type": "markdown",
   "source": [
    "### 态矢量"
   ],
   "metadata": {}
  },
  {
   "cell_type": "code",
   "execution_count": 18,
   "source": [
    "# Fock state\r\n",
    "\r\n",
    "# 希尔伯特空间的维度（能级的个数）\r\n",
    "N = 2\r\n",
    "\r\n",
    "# 占据态（从0开始算）\r\n",
    "n = 1\r\n",
    "\r\n",
    "# 生成 Fock 态\r\n",
    "basis(N, n)"
   ],
   "outputs": [
    {
     "output_type": "execute_result",
     "data": {
      "text/latex": [
       "Quantum object: dims = [[2], [1]], shape = (2, 1), type = ket\\begin{equation*}\\left(\\begin{array}{*{11}c}0.0\\\\1.0\\\\\\end{array}\\right)\\end{equation*}"
      ],
      "text/plain": [
       "Quantum object: dims = [[2], [1]], shape = (2, 1), type = ket\n",
       "Qobj data =\n",
       "[[0.]\n",
       " [1.]]"
      ]
     },
     "metadata": {},
     "execution_count": 18
    }
   ],
   "metadata": {}
  },
  {
   "cell_type": "code",
   "execution_count": 19,
   "source": [
    "# 另一种表示\r\n",
    "fock(5, 3)"
   ],
   "outputs": [
    {
     "output_type": "execute_result",
     "data": {
      "text/latex": [
       "Quantum object: dims = [[5], [1]], shape = (5, 1), type = ket\\begin{equation*}\\left(\\begin{array}{*{11}c}0.0\\\\0.0\\\\0.0\\\\1.0\\\\0.0\\\\\\end{array}\\right)\\end{equation*}"
      ],
      "text/plain": [
       "Quantum object: dims = [[5], [1]], shape = (5, 1), type = ket\n",
       "Qobj data =\n",
       "[[0.]\n",
       " [0.]\n",
       " [0.]\n",
       " [1.]\n",
       " [0.]]"
      ]
     },
     "metadata": {},
     "execution_count": 19
    }
   ],
   "metadata": {}
  },
  {
   "cell_type": "code",
   "execution_count": 20,
   "source": [
    "# 相干态\r\n",
    "\r\n",
    "# Fock 态空间的维度\r\n",
    "N = 10\r\n",
    "\r\n",
    "# 相干态的大小\r\n",
    "alpha = 1.0\r\n",
    "\r\n",
    "# 相干态（在 Fock 态表象下表示）\r\n",
    "coherent(N, alpha)"
   ],
   "outputs": [
    {
     "output_type": "execute_result",
     "data": {
      "text/latex": [
       "Quantum object: dims = [[10], [1]], shape = (10, 1), type = ket\\begin{equation*}\\left(\\begin{array}{*{11}c}0.607\\\\0.607\\\\0.429\\\\0.248\\\\0.124\\\\0.055\\\\0.023\\\\0.009\\\\0.003\\\\0.001\\\\\\end{array}\\right)\\end{equation*}"
      ],
      "text/plain": [
       "Quantum object: dims = [[10], [1]], shape = (10, 1), type = ket\n",
       "Qobj data =\n",
       "[[0.60653066]\n",
       " [0.60653066]\n",
       " [0.42888194]\n",
       " [0.24761511]\n",
       " [0.12380753]\n",
       " [0.0553686 ]\n",
       " [0.02260303]\n",
       " [0.00854887]\n",
       " [0.00299672]\n",
       " [0.00110007]]"
      ]
     },
     "metadata": {},
     "execution_count": 20
    }
   ],
   "metadata": {}
  },
  {
   "cell_type": "markdown",
   "source": [
    "### 密度矩阵"
   ],
   "metadata": {}
  },
  {
   "cell_type": "code",
   "execution_count": 21,
   "source": [
    "# 生成 Fock 态的密度矩阵\r\n",
    "fock_dm(5, 2)"
   ],
   "outputs": [
    {
     "output_type": "execute_result",
     "data": {
      "text/latex": [
       "Quantum object: dims = [[5], [5]], shape = (5, 5), type = oper, isherm = True\\begin{equation*}\\left(\\begin{array}{*{11}c}0.0 & 0.0 & 0.0 & 0.0 & 0.0\\\\0.0 & 0.0 & 0.0 & 0.0 & 0.0\\\\0.0 & 0.0 & 1.0 & 0.0 & 0.0\\\\0.0 & 0.0 & 0.0 & 0.0 & 0.0\\\\0.0 & 0.0 & 0.0 & 0.0 & 0.0\\\\\\end{array}\\right)\\end{equation*}"
      ],
      "text/plain": [
       "Quantum object: dims = [[5], [5]], shape = (5, 5), type = oper, isherm = True\n",
       "Qobj data =\n",
       "[[0. 0. 0. 0. 0.]\n",
       " [0. 0. 0. 0. 0.]\n",
       " [0. 0. 1. 0. 0.]\n",
       " [0. 0. 0. 0. 0.]\n",
       " [0. 0. 0. 0. 0.]]"
      ]
     },
     "metadata": {},
     "execution_count": 21
    }
   ],
   "metadata": {}
  },
  {
   "cell_type": "code",
   "execution_count": 22,
   "source": [
    "# 生成相干态密度矩阵（Fock 态表象下）\r\n",
    "coherent_dm(8, 1.0)"
   ],
   "outputs": [
    {
     "output_type": "execute_result",
     "data": {
      "text/latex": [
       "Quantum object: dims = [[8], [8]], shape = (8, 8), type = oper, isherm = True\\begin{equation*}\\left(\\begin{array}{*{11}c}0.368 & 0.368 & 0.260 & 0.150 & 0.075 & 0.034 & 0.014 & 0.006\\\\0.368 & 0.368 & 0.260 & 0.150 & 0.075 & 0.034 & 0.014 & 0.006\\\\0.260 & 0.260 & 0.184 & 0.106 & 0.053 & 0.024 & 0.010 & 0.004\\\\0.150 & 0.150 & 0.106 & 0.061 & 0.031 & 0.014 & 0.006 & 0.002\\\\0.075 & 0.075 & 0.053 & 0.031 & 0.015 & 0.007 & 0.003 & 0.001\\\\0.034 & 0.034 & 0.024 & 0.014 & 0.007 & 0.003 & 0.001 & 5.276\\times10^{-04}\\\\0.014 & 0.014 & 0.010 & 0.006 & 0.003 & 0.001 & 4.990\\times10^{-04} & 2.126\\times10^{-04}\\\\0.006 & 0.006 & 0.004 & 0.002 & 0.001 & 5.276\\times10^{-04} & 2.126\\times10^{-04} & 9.058\\times10^{-05}\\\\\\end{array}\\right)\\end{equation*}"
      ],
      "text/plain": [
       "Quantum object: dims = [[8], [8]], shape = (8, 8), type = oper, isherm = True\n",
       "Qobj data =\n",
       "[[3.67879439e-01 3.67879455e-01 2.60129900e-01 1.50187300e-01\n",
       "  7.50858773e-02 3.36199110e-02 1.35485515e-02 5.77267786e-03]\n",
       " [3.67879455e-01 3.67879470e-01 2.60129911e-01 1.50187306e-01\n",
       "  7.50858804e-02 3.36199124e-02 1.35485520e-02 5.77267810e-03]\n",
       " [2.60129900e-01 2.60129911e-01 1.83939513e-01 1.06198399e-01\n",
       "  5.30937031e-02 2.37728537e-02 9.58026722e-03 4.08189737e-03]\n",
       " [1.50187300e-01 1.50187306e-01 1.06198399e-01 6.13141770e-02\n",
       "  3.06539153e-02 1.37253761e-02 5.53121524e-03 2.35670388e-03]\n",
       " [7.50858773e-02 7.50858804e-02 5.30937031e-02 3.06539153e-02\n",
       "  1.53253712e-02 6.86197771e-03 2.76532136e-03 1.17822997e-03]\n",
       " [3.36199110e-02 3.36199124e-02 2.37728537e-02 1.37253761e-02\n",
       "  6.86197771e-03 3.07246966e-03 1.23818035e-03 5.27555757e-04]\n",
       " [1.35485515e-02 1.35485520e-02 9.58026722e-03 5.53121524e-03\n",
       "  2.76532136e-03 1.23818035e-03 4.98976640e-04 2.12600691e-04]\n",
       " [5.77267786e-03 5.77267810e-03 4.08189737e-03 2.35670388e-03\n",
       "  1.17822997e-03 5.27555757e-04 2.12600691e-04 9.05835068e-05]]"
      ]
     },
     "metadata": {},
     "execution_count": 22
    }
   ],
   "metadata": {}
  },
  {
   "cell_type": "code",
   "execution_count": 23,
   "source": [
    "# 热态\r\n",
    "\r\n",
    "# 热态的平均光子数\r\n",
    "n = 1\r\n",
    "\r\n",
    "# 热态是混态，只有密度矩阵表示\r\n",
    "thermal_dm(8, n)"
   ],
   "outputs": [
    {
     "output_type": "execute_result",
     "data": {
      "text/latex": [
       "Quantum object: dims = [[8], [8]], shape = (8, 8), type = oper, isherm = True\\begin{equation*}\\left(\\begin{array}{*{11}c}0.502 & 0.0 & 0.0 & 0.0 & 0.0 & 0.0 & 0.0 & 0.0\\\\0.0 & 0.251 & 0.0 & 0.0 & 0.0 & 0.0 & 0.0 & 0.0\\\\0.0 & 0.0 & 0.125 & 0.0 & 0.0 & 0.0 & 0.0 & 0.0\\\\0.0 & 0.0 & 0.0 & 0.063 & 0.0 & 0.0 & 0.0 & 0.0\\\\0.0 & 0.0 & 0.0 & 0.0 & 0.031 & 0.0 & 0.0 & 0.0\\\\0.0 & 0.0 & 0.0 & 0.0 & 0.0 & 0.016 & 0.0 & 0.0\\\\0.0 & 0.0 & 0.0 & 0.0 & 0.0 & 0.0 & 0.008 & 0.0\\\\0.0 & 0.0 & 0.0 & 0.0 & 0.0 & 0.0 & 0.0 & 0.004\\\\\\end{array}\\right)\\end{equation*}"
      ],
      "text/plain": [
       "Quantum object: dims = [[8], [8]], shape = (8, 8), type = oper, isherm = True\n",
       "Qobj data =\n",
       "[[0.50196078 0.         0.         0.         0.         0.\n",
       "  0.         0.        ]\n",
       " [0.         0.25098039 0.         0.         0.         0.\n",
       "  0.         0.        ]\n",
       " [0.         0.         0.1254902  0.         0.         0.\n",
       "  0.         0.        ]\n",
       " [0.         0.         0.         0.0627451  0.         0.\n",
       "  0.         0.        ]\n",
       " [0.         0.         0.         0.         0.03137255 0.\n",
       "  0.         0.        ]\n",
       " [0.         0.         0.         0.         0.         0.01568627\n",
       "  0.         0.        ]\n",
       " [0.         0.         0.         0.         0.         0.\n",
       "  0.00784314 0.        ]\n",
       " [0.         0.         0.         0.         0.         0.\n",
       "  0.         0.00392157]]"
      ]
     },
     "metadata": {},
     "execution_count": 23
    }
   ],
   "metadata": {}
  },
  {
   "cell_type": "markdown",
   "source": [
    "### 算符"
   ],
   "metadata": {}
  },
  {
   "cell_type": "markdown",
   "source": [
    "#### Qubit（二能级系统）的算符"
   ],
   "metadata": {}
  },
  {
   "cell_type": "code",
   "execution_count": 24,
   "source": [
    "# 内置泡利算符\r\n",
    "sigmax()"
   ],
   "outputs": [
    {
     "output_type": "execute_result",
     "data": {
      "text/latex": [
       "Quantum object: dims = [[2], [2]], shape = (2, 2), type = oper, isherm = True\\begin{equation*}\\left(\\begin{array}{*{11}c}0.0 & 1.0\\\\1.0 & 0.0\\\\\\end{array}\\right)\\end{equation*}"
      ],
      "text/plain": [
       "Quantum object: dims = [[2], [2]], shape = (2, 2), type = oper, isherm = True\n",
       "Qobj data =\n",
       "[[0. 1.]\n",
       " [1. 0.]]"
      ]
     },
     "metadata": {},
     "execution_count": 24
    }
   ],
   "metadata": {}
  },
  {
   "cell_type": "code",
   "execution_count": 25,
   "source": [
    "sigmay()"
   ],
   "outputs": [
    {
     "output_type": "execute_result",
     "data": {
      "text/latex": [
       "Quantum object: dims = [[2], [2]], shape = (2, 2), type = oper, isherm = True\\begin{equation*}\\left(\\begin{array}{*{11}c}0.0 & -1.0j\\\\1.0j & 0.0\\\\\\end{array}\\right)\\end{equation*}"
      ],
      "text/plain": [
       "Quantum object: dims = [[2], [2]], shape = (2, 2), type = oper, isherm = True\n",
       "Qobj data =\n",
       "[[0.+0.j 0.-1.j]\n",
       " [0.+1.j 0.+0.j]]"
      ]
     },
     "metadata": {},
     "execution_count": 25
    }
   ],
   "metadata": {}
  },
  {
   "cell_type": "code",
   "execution_count": 26,
   "source": [
    "sigmaz()"
   ],
   "outputs": [
    {
     "output_type": "execute_result",
     "data": {
      "text/latex": [
       "Quantum object: dims = [[2], [2]], shape = (2, 2), type = oper, isherm = True\\begin{equation*}\\left(\\begin{array}{*{11}c}1.0 & 0.0\\\\0.0 & -1.0\\\\\\end{array}\\right)\\end{equation*}"
      ],
      "text/plain": [
       "Quantum object: dims = [[2], [2]], shape = (2, 2), type = oper, isherm = True\n",
       "Qobj data =\n",
       "[[ 1.  0.]\n",
       " [ 0. -1.]]"
      ]
     },
     "metadata": {},
     "execution_count": 26
    }
   ],
   "metadata": {}
  },
  {
   "cell_type": "markdown",
   "source": [
    "#### 线性谐振子算符（不是二能级，可以指定任意维度的能级空间）"
   ],
   "metadata": {}
  },
  {
   "cell_type": "code",
   "execution_count": 27,
   "source": [
    "# 湮灭算符\r\n",
    "destroy(N = 8)"
   ],
   "outputs": [
    {
     "output_type": "execute_result",
     "data": {
      "text/latex": [
       "Quantum object: dims = [[8], [8]], shape = (8, 8), type = oper, isherm = False\\begin{equation*}\\left(\\begin{array}{*{11}c}0.0 & 1.0 & 0.0 & 0.0 & 0.0 & 0.0 & 0.0 & 0.0\\\\0.0 & 0.0 & 1.414 & 0.0 & 0.0 & 0.0 & 0.0 & 0.0\\\\0.0 & 0.0 & 0.0 & 1.732 & 0.0 & 0.0 & 0.0 & 0.0\\\\0.0 & 0.0 & 0.0 & 0.0 & 2.0 & 0.0 & 0.0 & 0.0\\\\0.0 & 0.0 & 0.0 & 0.0 & 0.0 & 2.236 & 0.0 & 0.0\\\\0.0 & 0.0 & 0.0 & 0.0 & 0.0 & 0.0 & 2.449 & 0.0\\\\0.0 & 0.0 & 0.0 & 0.0 & 0.0 & 0.0 & 0.0 & 2.646\\\\0.0 & 0.0 & 0.0 & 0.0 & 0.0 & 0.0 & 0.0 & 0.0\\\\\\end{array}\\right)\\end{equation*}"
      ],
      "text/plain": [
       "Quantum object: dims = [[8], [8]], shape = (8, 8), type = oper, isherm = False\n",
       "Qobj data =\n",
       "[[0.         1.         0.         0.         0.         0.\n",
       "  0.         0.        ]\n",
       " [0.         0.         1.41421356 0.         0.         0.\n",
       "  0.         0.        ]\n",
       " [0.         0.         0.         1.73205081 0.         0.\n",
       "  0.         0.        ]\n",
       " [0.         0.         0.         0.         2.         0.\n",
       "  0.         0.        ]\n",
       " [0.         0.         0.         0.         0.         2.23606798\n",
       "  0.         0.        ]\n",
       " [0.         0.         0.         0.         0.         0.\n",
       "  2.44948974 0.        ]\n",
       " [0.         0.         0.         0.         0.         0.\n",
       "  0.         2.64575131]\n",
       " [0.         0.         0.         0.         0.         0.\n",
       "  0.         0.        ]]"
      ]
     },
     "metadata": {},
     "execution_count": 27
    }
   ],
   "metadata": {}
  },
  {
   "cell_type": "code",
   "execution_count": 28,
   "source": [
    "# 创生算符\r\n",
    "create(8)"
   ],
   "outputs": [
    {
     "output_type": "execute_result",
     "data": {
      "text/latex": [
       "Quantum object: dims = [[8], [8]], shape = (8, 8), type = oper, isherm = False\\begin{equation*}\\left(\\begin{array}{*{11}c}0.0 & 0.0 & 0.0 & 0.0 & 0.0 & 0.0 & 0.0 & 0.0\\\\1.0 & 0.0 & 0.0 & 0.0 & 0.0 & 0.0 & 0.0 & 0.0\\\\0.0 & 1.414 & 0.0 & 0.0 & 0.0 & 0.0 & 0.0 & 0.0\\\\0.0 & 0.0 & 1.732 & 0.0 & 0.0 & 0.0 & 0.0 & 0.0\\\\0.0 & 0.0 & 0.0 & 2.0 & 0.0 & 0.0 & 0.0 & 0.0\\\\0.0 & 0.0 & 0.0 & 0.0 & 2.236 & 0.0 & 0.0 & 0.0\\\\0.0 & 0.0 & 0.0 & 0.0 & 0.0 & 2.449 & 0.0 & 0.0\\\\0.0 & 0.0 & 0.0 & 0.0 & 0.0 & 0.0 & 2.646 & 0.0\\\\\\end{array}\\right)\\end{equation*}"
      ],
      "text/plain": [
       "Quantum object: dims = [[8], [8]], shape = (8, 8), type = oper, isherm = False\n",
       "Qobj data =\n",
       "[[0.         0.         0.         0.         0.         0.\n",
       "  0.         0.        ]\n",
       " [1.         0.         0.         0.         0.         0.\n",
       "  0.         0.        ]\n",
       " [0.         1.41421356 0.         0.         0.         0.\n",
       "  0.         0.        ]\n",
       " [0.         0.         1.73205081 0.         0.         0.\n",
       "  0.         0.        ]\n",
       " [0.         0.         0.         2.         0.         0.\n",
       "  0.         0.        ]\n",
       " [0.         0.         0.         0.         2.23606798 0.\n",
       "  0.         0.        ]\n",
       " [0.         0.         0.         0.         0.         2.44948974\n",
       "  0.         0.        ]\n",
       " [0.         0.         0.         0.         0.         0.\n",
       "  2.64575131 0.        ]]"
      ]
     },
     "metadata": {},
     "execution_count": 28
    }
   ],
   "metadata": {}
  },
  {
   "cell_type": "code",
   "execution_count": 29,
   "source": [
    "# 位置算符\r\n",
    "a = destroy(8)\r\n",
    "x = a + a.dag()\r\n",
    "\r\n",
    "x"
   ],
   "outputs": [
    {
     "output_type": "execute_result",
     "data": {
      "text/latex": [
       "Quantum object: dims = [[8], [8]], shape = (8, 8), type = oper, isherm = True\\begin{equation*}\\left(\\begin{array}{*{11}c}0.0 & 1.0 & 0.0 & 0.0 & 0.0 & 0.0 & 0.0 & 0.0\\\\1.0 & 0.0 & 1.414 & 0.0 & 0.0 & 0.0 & 0.0 & 0.0\\\\0.0 & 1.414 & 0.0 & 1.732 & 0.0 & 0.0 & 0.0 & 0.0\\\\0.0 & 0.0 & 1.732 & 0.0 & 2.0 & 0.0 & 0.0 & 0.0\\\\0.0 & 0.0 & 0.0 & 2.0 & 0.0 & 2.236 & 0.0 & 0.0\\\\0.0 & 0.0 & 0.0 & 0.0 & 2.236 & 0.0 & 2.449 & 0.0\\\\0.0 & 0.0 & 0.0 & 0.0 & 0.0 & 2.449 & 0.0 & 2.646\\\\0.0 & 0.0 & 0.0 & 0.0 & 0.0 & 0.0 & 2.646 & 0.0\\\\\\end{array}\\right)\\end{equation*}"
      ],
      "text/plain": [
       "Quantum object: dims = [[8], [8]], shape = (8, 8), type = oper, isherm = True\n",
       "Qobj data =\n",
       "[[0.         1.         0.         0.         0.         0.\n",
       "  0.         0.        ]\n",
       " [1.         0.         1.41421356 0.         0.         0.\n",
       "  0.         0.        ]\n",
       " [0.         1.41421356 0.         1.73205081 0.         0.\n",
       "  0.         0.        ]\n",
       " [0.         0.         1.73205081 0.         2.         0.\n",
       "  0.         0.        ]\n",
       " [0.         0.         0.         2.         0.         2.23606798\n",
       "  0.         0.        ]\n",
       " [0.         0.         0.         0.         2.23606798 0.\n",
       "  2.44948974 0.        ]\n",
       " [0.         0.         0.         0.         0.         2.44948974\n",
       "  0.         2.64575131]\n",
       " [0.         0.         0.         0.         0.         0.\n",
       "  2.64575131 0.        ]]"
      ]
     },
     "metadata": {},
     "execution_count": 29
    }
   ],
   "metadata": {}
  },
  {
   "cell_type": "markdown",
   "source": [
    "#### 求对易子"
   ],
   "metadata": {}
  },
  {
   "cell_type": "code",
   "execution_count": 30,
   "source": [
    "# 定义对易子计算方法\r\n",
    "def commutator(op1, op2):\r\n",
    "    commut = op1 * op2 - op2 * op1\r\n",
    "    return commut"
   ],
   "outputs": [],
   "metadata": {}
  },
  {
   "cell_type": "markdown",
   "source": [
    "#### 求湮灭算符 $\\hat a$ 与创生算符 $\\hat a^\\dagger$ 的对易子"
   ],
   "metadata": {}
  },
  {
   "cell_type": "code",
   "execution_count": 31,
   "source": [
    "a = destroy(5)\r\n",
    "a_dag = a.dag()\r\n",
    "commutator(a, a_dag)"
   ],
   "outputs": [
    {
     "output_type": "execute_result",
     "data": {
      "text/latex": [
       "Quantum object: dims = [[5], [5]], shape = (5, 5), type = oper, isherm = True\\begin{equation*}\\left(\\begin{array}{*{11}c}1.0 & 0.0 & 0.0 & 0.0 & 0.0\\\\0.0 & 1.0 & 0.0 & 0.0 & 0.0\\\\0.0 & 0.0 & 1.000 & 0.0 & 0.0\\\\0.0 & 0.0 & 0.0 & 1.0 & 0.0\\\\0.0 & 0.0 & 0.0 & 0.0 & -4.0\\\\\\end{array}\\right)\\end{equation*}"
      ],
      "text/plain": [
       "Quantum object: dims = [[5], [5]], shape = (5, 5), type = oper, isherm = True\n",
       "Qobj data =\n",
       "[[ 1.  0.  0.  0.  0.]\n",
       " [ 0.  1.  0.  0.  0.]\n",
       " [ 0.  0.  1.  0.  0.]\n",
       " [ 0.  0.  0.  1.  0.]\n",
       " [ 0.  0.  0.  0. -4.]]"
      ]
     },
     "metadata": {},
     "execution_count": 31
    }
   ],
   "metadata": {}
  },
  {
   "cell_type": "markdown",
   "source": [
    "可以看出来，这个矩阵并不是单位矩阵，矩阵右下角出现的 -4.0 是因为 Fock 空间本身应该是无限维的，在这里我们进行了截断处理。"
   ],
   "metadata": {}
  },
  {
   "cell_type": "markdown",
   "source": [
    "### 尝试在不同能级截断结果有何不同"
   ],
   "metadata": {}
  },
  {
   "cell_type": "code",
   "execution_count": 32,
   "source": [
    "a = destroy(6)\r\n",
    "a_dag = a.dag()\r\n",
    "commutator(a, a_dag)"
   ],
   "outputs": [
    {
     "output_type": "execute_result",
     "data": {
      "text/latex": [
       "Quantum object: dims = [[6], [6]], shape = (6, 6), type = oper, isherm = True\\begin{equation*}\\left(\\begin{array}{*{11}c}1.0 & 0.0 & 0.0 & 0.0 & 0.0 & 0.0\\\\0.0 & 1.0 & 0.0 & 0.0 & 0.0 & 0.0\\\\0.0 & 0.0 & 1.000 & 0.0 & 0.0 & 0.0\\\\0.0 & 0.0 & 0.0 & 1.0 & 0.0 & 0.0\\\\0.0 & 0.0 & 0.0 & 0.0 & 1.0 & 0.0\\\\0.0 & 0.0 & 0.0 & 0.0 & 0.0 & -5.0\\\\\\end{array}\\right)\\end{equation*}"
      ],
      "text/plain": [
       "Quantum object: dims = [[6], [6]], shape = (6, 6), type = oper, isherm = True\n",
       "Qobj data =\n",
       "[[ 1.  0.  0.  0.  0.  0.]\n",
       " [ 0.  1.  0.  0.  0.  0.]\n",
       " [ 0.  0.  1.  0.  0.  0.]\n",
       " [ 0.  0.  0.  1.  0.  0.]\n",
       " [ 0.  0.  0.  0.  1.  0.]\n",
       " [ 0.  0.  0.  0.  0. -5.]]"
      ]
     },
     "metadata": {},
     "execution_count": 32
    }
   ],
   "metadata": {}
  },
  {
   "cell_type": "markdown",
   "source": [
    "可以看到一些规律，右下角的数字为 （$1-\\text{截断的空间维度}$）"
   ],
   "metadata": {}
  },
  {
   "cell_type": "markdown",
   "source": [
    "$[x, p] = i$"
   ],
   "metadata": {}
  },
  {
   "cell_type": "code",
   "execution_count": 33,
   "source": [
    "x = (a + a_dag) / np.sqrt(2)\r\n",
    "p = -1j * (a - a_dag) / np.sqrt(2)\r\n",
    "\r\n",
    "commutator(x, p)"
   ],
   "outputs": [
    {
     "output_type": "execute_result",
     "data": {
      "text/latex": [
       "Quantum object: dims = [[6], [6]], shape = (6, 6), type = oper, isherm = False\\begin{equation*}\\left(\\begin{array}{*{11}c}1.000j & 0.0 & 0.0 & 0.0 & 0.0 & 0.0\\\\0.0 & 1.0j & 0.0 & 0.0 & 0.0 & 0.0\\\\0.0 & 0.0 & 1.000j & 0.0 & 0.0 & 0.0\\\\0.0 & 0.0 & 0.0 & 1.000j & 0.0 & 0.0\\\\0.0 & 0.0 & 0.0 & 0.0 & 1.0j & 0.0\\\\0.0 & 0.0 & 0.0 & 0.0 & 0.0 & -5.000j\\\\\\end{array}\\right)\\end{equation*}"
      ],
      "text/plain": [
       "Quantum object: dims = [[6], [6]], shape = (6, 6), type = oper, isherm = False\n",
       "Qobj data =\n",
       "[[0.+1.j 0.+0.j 0.+0.j 0.+0.j 0.+0.j 0.+0.j]\n",
       " [0.+0.j 0.+1.j 0.+0.j 0.+0.j 0.+0.j 0.+0.j]\n",
       " [0.+0.j 0.+0.j 0.+1.j 0.+0.j 0.+0.j 0.+0.j]\n",
       " [0.+0.j 0.+0.j 0.+0.j 0.+1.j 0.+0.j 0.+0.j]\n",
       " [0.+0.j 0.+0.j 0.+0.j 0.+0.j 0.+1.j 0.+0.j]\n",
       " [0.+0.j 0.+0.j 0.+0.j 0.+0.j 0.+0.j 0.-5.j]]"
      ]
     },
     "metadata": {},
     "execution_count": 33
    }
   ],
   "metadata": {}
  },
  {
   "cell_type": "markdown",
   "source": [
    "$[\\sigma_x, \\sigma_y] = 2\\mathrm{i}\\sigma_z$"
   ],
   "metadata": {}
  },
  {
   "cell_type": "code",
   "execution_count": 34,
   "source": [
    "commutator(sigmax(), sigmay())"
   ],
   "outputs": [
    {
     "output_type": "execute_result",
     "data": {
      "text/latex": [
       "Quantum object: dims = [[2], [2]], shape = (2, 2), type = oper, isherm = False\\begin{equation*}\\left(\\begin{array}{*{11}c}2.0j & 0.0\\\\0.0 & -2.0j\\\\\\end{array}\\right)\\end{equation*}"
      ],
      "text/plain": [
       "Quantum object: dims = [[2], [2]], shape = (2, 2), type = oper, isherm = False\n",
       "Qobj data =\n",
       "[[0.+2.j 0.+0.j]\n",
       " [0.+0.j 0.-2.j]]"
      ]
     },
     "metadata": {},
     "execution_count": 34
    }
   ],
   "metadata": {}
  },
  {
   "cell_type": "code",
   "execution_count": 35,
   "source": [
    "sigmaz() * 2j"
   ],
   "outputs": [
    {
     "output_type": "execute_result",
     "data": {
      "text/latex": [
       "Quantum object: dims = [[2], [2]], shape = (2, 2), type = oper, isherm = False\\begin{equation*}\\left(\\begin{array}{*{11}c}2.0j & 0.0\\\\0.0 & -2.0j\\\\\\end{array}\\right)\\end{equation*}"
      ],
      "text/plain": [
       "Quantum object: dims = [[2], [2]], shape = (2, 2), type = oper, isherm = False\n",
       "Qobj data =\n",
       "[[0.+2.j 0.+0.j]\n",
       " [0.+0.j 0.-2.j]]"
      ]
     },
     "metadata": {},
     "execution_count": 35
    }
   ],
   "metadata": {}
  },
  {
   "cell_type": "markdown",
   "source": [
    "$-\\mathrm{i}\\sigma_x \\sigma_y \\sigma_z = 1$"
   ],
   "metadata": {}
  },
  {
   "cell_type": "code",
   "execution_count": 36,
   "source": [
    "-1j * sigmax() * sigmay() * sigmaz()"
   ],
   "outputs": [
    {
     "output_type": "execute_result",
     "data": {
      "text/latex": [
       "Quantum object: dims = [[2], [2]], shape = (2, 2), type = oper, isherm = True\\begin{equation*}\\left(\\begin{array}{*{11}c}1.0 & 0.0\\\\0.0 & 1.0\\\\\\end{array}\\right)\\end{equation*}"
      ],
      "text/plain": [
       "Quantum object: dims = [[2], [2]], shape = (2, 2), type = oper, isherm = True\n",
       "Qobj data =\n",
       "[[1. 0.]\n",
       " [0. 1.]]"
      ]
     },
     "metadata": {},
     "execution_count": 36
    }
   ],
   "metadata": {}
  },
  {
   "cell_type": "markdown",
   "source": [
    "## 复合系统"
   ],
   "metadata": {}
  },
  {
   "cell_type": "markdown",
   "source": [
    "### 直积"
   ],
   "metadata": {}
  },
  {
   "cell_type": "markdown",
   "source": [
    "对 qubit 1 进行 $\\sigma_z$ 操作，对 qubit 2 不进行操作"
   ],
   "metadata": {}
  },
  {
   "cell_type": "code",
   "execution_count": 37,
   "source": [
    "sz1 = tensor(sigmaz(), qeye(2))\r\n",
    "# qeye 为单位矩阵。\r\n",
    "# 注意 qutip 的 Qobj 对象不能和 numpy 或者 pandas 的矩阵混用，\r\n",
    "# 要做矩阵直积，所有的对象都需要是 Qobj 对象。\r\n",
    "sz1"
   ],
   "outputs": [
    {
     "output_type": "execute_result",
     "data": {
      "text/latex": [
       "Quantum object: dims = [[2, 2], [2, 2]], shape = (4, 4), type = oper, isherm = True\\begin{equation*}\\left(\\begin{array}{*{11}c}1.0 & 0.0 & 0.0 & 0.0\\\\0.0 & 1.0 & 0.0 & 0.0\\\\0.0 & 0.0 & -1.0 & 0.0\\\\0.0 & 0.0 & 0.0 & -1.0\\\\\\end{array}\\right)\\end{equation*}"
      ],
      "text/plain": [
       "Quantum object: dims = [[2, 2], [2, 2]], shape = (4, 4), type = oper, isherm = True\n",
       "Qobj data =\n",
       "[[ 1.  0.  0.  0.]\n",
       " [ 0.  1.  0.  0.]\n",
       " [ 0.  0. -1.  0.]\n",
       " [ 0.  0.  0. -1.]]"
      ]
     },
     "metadata": {},
     "execution_count": 37
    }
   ],
   "metadata": {}
  },
  {
   "cell_type": "markdown",
   "source": [
    "态空间直积"
   ],
   "metadata": {}
  },
  {
   "cell_type": "code",
   "execution_count": 38,
   "source": [
    "N = 2\r\n",
    "psi1 = tensor(basis(N, 0), basis(N, 1))\r\n",
    "psi2 = tensor(basis(N, 1), basis(N, 0))\r\n",
    "print(psi1, '\\n', psi2)"
   ],
   "outputs": [
    {
     "output_type": "stream",
     "name": "stdout",
     "text": [
      "Quantum object: dims = [[2, 2], [1, 1]], shape = (4, 1), type = ket\n",
      "Qobj data =\n",
      "[[0.]\n",
      " [1.]\n",
      " [0.]\n",
      " [0.]] \n",
      " Quantum object: dims = [[2, 2], [1, 1]], shape = (4, 1), type = ket\n",
      "Qobj data =\n",
      "[[0.]\n",
      " [0.]\n",
      " [1.]\n",
      " [0.]]\n"
     ]
    }
   ],
   "metadata": {}
  },
  {
   "cell_type": "code",
   "execution_count": 39,
   "source": [
    "# 将算符作用在两比特态上\r\n",
    "sz1 * psi1 == psi1"
   ],
   "outputs": [
    {
     "output_type": "execute_result",
     "data": {
      "text/plain": [
       "True"
      ]
     },
     "metadata": {},
     "execution_count": 39
    }
   ],
   "metadata": {}
  },
  {
   "cell_type": "code",
   "execution_count": 40,
   "source": [
    "print(sz1 * psi2 == -psi2)\r\n",
    "print(sz1 * psi2)"
   ],
   "outputs": [
    {
     "output_type": "stream",
     "name": "stdout",
     "text": [
      "True\n",
      "Quantum object: dims = [[2, 2], [1, 1]], shape = (4, 1), type = ket\n",
      "Qobj data =\n",
      "[[ 0.]\n",
      " [ 0.]\n",
      " [-1.]\n",
      " [ 0.]]\n"
     ]
    }
   ],
   "metadata": {}
  },
  {
   "cell_type": "markdown",
   "source": [
    "两个 `Qobj` 对象可以使用普通乘法，且乘积仍然是 `Qobj` 对象，说明这 `Qobj` 类对运算符进行了方法重构，在这里算是替代了 numpy"
   ],
   "metadata": {}
  },
  {
   "cell_type": "markdown",
   "source": [
    "### 两比特耦合哈密顿量\r\n",
    "$H = \\epsilon_1 \\sigma_z^1 +\\epsilon_2 \\sigma_z^2 + g\\sigma_x^1\\sigma_x^2 $"
   ],
   "metadata": {}
  },
  {
   "cell_type": "code",
   "execution_count": 41,
   "source": [
    "epsilon = [1.0, 2.0]\r\n",
    "g = 0.3\r\n",
    "\r\n",
    "H = epsilon[0] * tensor(sigmaz(), qeye(2)) + epsilon[1] * tensor(qeye(2), sigmaz()) + g * tensor(sigmax(), sigmax())\r\n",
    "\r\n",
    "H"
   ],
   "outputs": [
    {
     "output_type": "execute_result",
     "data": {
      "text/latex": [
       "Quantum object: dims = [[2, 2], [2, 2]], shape = (4, 4), type = oper, isherm = True\\begin{equation*}\\left(\\begin{array}{*{11}c}3.0 & 0.0 & 0.0 & 0.300\\\\0.0 & -1.0 & 0.300 & 0.0\\\\0.0 & 0.300 & 1.0 & 0.0\\\\0.300 & 0.0 & 0.0 & -3.0\\\\\\end{array}\\right)\\end{equation*}"
      ],
      "text/plain": [
       "Quantum object: dims = [[2, 2], [2, 2]], shape = (4, 4), type = oper, isherm = True\n",
       "Qobj data =\n",
       "[[ 3.   0.   0.   0.3]\n",
       " [ 0.  -1.   0.3  0. ]\n",
       " [ 0.   0.3  1.   0. ]\n",
       " [ 0.3  0.   0.  -3. ]]"
      ]
     },
     "metadata": {},
     "execution_count": 41
    }
   ],
   "metadata": {}
  },
  {
   "cell_type": "code",
   "execution_count": 42,
   "source": [
    "H.eigenstates()"
   ],
   "outputs": [
    {
     "output_type": "execute_result",
     "data": {
      "text/plain": [
       "(array([-3.01496269, -1.04403065,  1.04403065,  3.01496269]),\n",
       " array([Quantum object: dims = [[2, 2], [1, 1]], shape = (4, 1), type = ket\n",
       "        Qobj data =\n",
       "        [[ 0.0498137 ]\n",
       "         [ 0.        ]\n",
       "         [ 0.        ]\n",
       "         [-0.99875853]]                                                    ,\n",
       "        Quantum object: dims = [[2, 2], [1, 1]], shape = (4, 1), type = ket\n",
       "        Qobj data =\n",
       "        [[ 0.        ]\n",
       "         [-0.9894004 ]\n",
       "         [ 0.14521314]\n",
       "         [ 0.        ]]                                                    ,\n",
       "        Quantum object: dims = [[2, 2], [1, 1]], shape = (4, 1), type = ket\n",
       "        Qobj data =\n",
       "        [[0.        ]\n",
       "         [0.14521314]\n",
       "         [0.9894004 ]\n",
       "         [0.        ]]                                                     ,\n",
       "        Quantum object: dims = [[2, 2], [1, 1]], shape = (4, 1), type = ket\n",
       "        Qobj data =\n",
       "        [[0.99875853]\n",
       "         [0.        ]\n",
       "         [0.        ]\n",
       "         [0.0498137 ]]                                                     ],\n",
       "       dtype=object))"
      ]
     },
     "metadata": {},
     "execution_count": 42
    }
   ],
   "metadata": {}
  },
  {
   "cell_type": "markdown",
   "source": [
    "### JC-model\r\n",
    "$H = \\omega_c a^\\dagger a - \\frac{1}{2}\\omega_a \\sigma_z + g(a\\sigma_+  + a^\\dagger \\sigma_-)$"
   ],
   "metadata": {}
  },
  {
   "cell_type": "code",
   "execution_count": 43,
   "source": [
    "omega_c = 1.0   # 腔频\r\n",
    "omega_a = 1.0   # qubit 频率\r\n",
    "g = 0.1 # 耦合强度"
   ],
   "outputs": [],
   "metadata": {}
  },
  {
   "cell_type": "code",
   "execution_count": 68,
   "source": [
    "# 腔模式下的算符（假设腔模式在第五个处截断）\r\n",
    "a = tensor(destroy(5), qeye(2))\r\n",
    "a_dag = a.dag()\r\n",
    "\r\n",
    "# qubit 的算符\r\n",
    "sz = tensor(qeye(5), sigmaz())\r\n",
    "sm = tensor(qeye(5), destroy(2))\r\n",
    "sp = sm.dag()\r\n",
    "\r\n",
    "# 总哈密顿量\r\n",
    "H = omega_c * a_dag * a - 0.5 * omega_a * sz + g * (a * sp + a_dag * sm)\r\n",
    "H"
   ],
   "outputs": [
    {
     "output_type": "execute_result",
     "data": {
      "text/latex": [
       "Quantum object: dims = [[5, 2], [5, 2]], shape = (10, 10), type = oper, isherm = True\\begin{equation*}\\left(\\begin{array}{*{11}c}-0.500 & 0.0 & 0.0 & 0.0 & 0.0 & 0.0 & 0.0 & 0.0 & 0.0 & 0.0\\\\0.0 & 0.500 & 0.100 & 0.0 & 0.0 & 0.0 & 0.0 & 0.0 & 0.0 & 0.0\\\\0.0 & 0.100 & 0.500 & 0.0 & 0.0 & 0.0 & 0.0 & 0.0 & 0.0 & 0.0\\\\0.0 & 0.0 & 0.0 & 1.500 & 0.141 & 0.0 & 0.0 & 0.0 & 0.0 & 0.0\\\\0.0 & 0.0 & 0.0 & 0.141 & 1.500 & 0.0 & 0.0 & 0.0 & 0.0 & 0.0\\\\0.0 & 0.0 & 0.0 & 0.0 & 0.0 & 2.500 & 0.173 & 0.0 & 0.0 & 0.0\\\\0.0 & 0.0 & 0.0 & 0.0 & 0.0 & 0.173 & 2.500 & 0.0 & 0.0 & 0.0\\\\0.0 & 0.0 & 0.0 & 0.0 & 0.0 & 0.0 & 0.0 & 3.500 & 0.200 & 0.0\\\\0.0 & 0.0 & 0.0 & 0.0 & 0.0 & 0.0 & 0.0 & 0.200 & 3.500 & 0.0\\\\0.0 & 0.0 & 0.0 & 0.0 & 0.0 & 0.0 & 0.0 & 0.0 & 0.0 & 4.500\\\\\\end{array}\\right)\\end{equation*}"
      ],
      "text/plain": [
       "Quantum object: dims = [[5, 2], [5, 2]], shape = (10, 10), type = oper, isherm = True\n",
       "Qobj data =\n",
       "[[-0.5         0.          0.          0.          0.          0.\n",
       "   0.          0.          0.          0.        ]\n",
       " [ 0.          0.5         0.1         0.          0.          0.\n",
       "   0.          0.          0.          0.        ]\n",
       " [ 0.          0.1         0.5         0.          0.          0.\n",
       "   0.          0.          0.          0.        ]\n",
       " [ 0.          0.          0.          1.5         0.14142136  0.\n",
       "   0.          0.          0.          0.        ]\n",
       " [ 0.          0.          0.          0.14142136  1.5         0.\n",
       "   0.          0.          0.          0.        ]\n",
       " [ 0.          0.          0.          0.          0.          2.5\n",
       "   0.17320508  0.          0.          0.        ]\n",
       " [ 0.          0.          0.          0.          0.          0.17320508\n",
       "   2.5         0.          0.          0.        ]\n",
       " [ 0.          0.          0.          0.          0.          0.\n",
       "   0.          3.5         0.2         0.        ]\n",
       " [ 0.          0.          0.          0.          0.          0.\n",
       "   0.          0.2         3.5         0.        ]\n",
       " [ 0.          0.          0.          0.          0.          0.\n",
       "   0.          0.          0.          4.5       ]]"
      ]
     },
     "metadata": {},
     "execution_count": 68
    }
   ],
   "metadata": {}
  },
  {
   "cell_type": "markdown",
   "source": [
    "需要注意的是\r\n",
    "$a \\sigma_+ = (a \\otimes I)(I \\otimes \\sigma_+)$"
   ],
   "metadata": {}
  },
  {
   "cell_type": "code",
   "execution_count": 69,
   "source": [
    "H.eigenenergies()"
   ],
   "outputs": [
    {
     "output_type": "execute_result",
     "data": {
      "text/plain": [
       "array([-0.5       ,  0.4       ,  0.6       ,  1.35857864,  1.64142136,\n",
       "        2.32679492,  2.67320508,  3.3       ,  3.7       ,  4.5       ])"
      ]
     },
     "metadata": {},
     "execution_count": 69
    }
   ],
   "metadata": {}
  },
  {
   "cell_type": "markdown",
   "source": [
    "## 动力学演化（幺正演化）\r\n",
    "`mesolve` 求解 master equation （主方程）。\r\n",
    "无耗散时会退化到薛定谔方程（态演化）或者冯诺依曼方程（算符演化）\r\n",
    "\r\n",
    "### Return\r\n",
    "求解的返回值为一个 `Odedata` 对象，指的是 ordinary differential equation（常微分方程）求解数据"
   ],
   "metadata": {}
  },
  {
   "cell_type": "markdown",
   "source": [
    "#### 以 $H = \\sigma_x$，初态为 $| 1\\rangle$ 为例"
   ],
   "metadata": {}
  },
  {
   "cell_type": "code",
   "execution_count": 71,
   "source": [
    "# 哈密顿量为\r\n",
    "H = sigmax()\r\n",
    "\r\n",
    "# 初态\r\n",
    "psi0 = basis(2, 1)\r\n",
    "\r\n",
    "# 离散时间列表（求解每一个时刻的状态）\r\n",
    "tls = np.linspace(0, 10, 100)\r\n",
    "\r\n",
    "res = mesolve(H, psi0, tls, [], [])"
   ],
   "outputs": [],
   "metadata": {}
  },
  {
   "cell_type": "code",
   "execution_count": 72,
   "source": [
    "res"
   ],
   "outputs": [
    {
     "output_type": "execute_result",
     "data": {
      "text/plain": [
       "Result object with sesolve data.\n",
       "--------------------------------\n",
       "states = True\n",
       "num_collapse = 0"
      ]
     },
     "metadata": {},
     "execution_count": 72
    }
   ],
   "metadata": {}
  },
  {
   "cell_type": "markdown",
   "source": [
    "res 里面包含了每个时刻的求解结果"
   ],
   "metadata": {}
  },
  {
   "cell_type": "code",
   "execution_count": 75,
   "source": [
    "# 初态\r\n",
    "print(res.states[0])\r\n",
    "\r\n",
    "# 末态\r\n",
    "print(res.states[-1])"
   ],
   "outputs": [
    {
     "output_type": "stream",
     "name": "stdout",
     "text": [
      "Quantum object: dims = [[2], [1]], shape = (2, 1), type = ket\n",
      "Qobj data =\n",
      "[[0.]\n",
      " [1.]]\n",
      "Quantum object: dims = [[2], [1]], shape = (2, 1), type = ket\n",
      "Qobj data =\n",
      "[[ 0.       +0.54401206j]\n",
      " [-0.8390774+0.j        ]]\n"
     ]
    }
   ],
   "metadata": {}
  },
  {
   "cell_type": "markdown",
   "source": [
    "### 期望值\r\n",
    "可以求算符在单个态下期望，也可以求一组期望"
   ],
   "metadata": {}
  },
  {
   "cell_type": "code",
   "execution_count": 76,
   "source": [
    "# 求哈密顿量在末态的期望\r\n",
    "expect(H, res.states[-1])"
   ],
   "outputs": [
    {
     "output_type": "execute_result",
     "data": {
      "text/plain": [
       "0.0"
      ]
     },
     "metadata": {},
     "execution_count": 76
    }
   ],
   "metadata": {}
  },
  {
   "cell_type": "code",
   "execution_count": 77,
   "source": [
    "# 求 pauli-Z 算符在末态的期望\r\n",
    "expect(sigmaz(), res.states[-1])"
   ],
   "outputs": [
    {
     "output_type": "execute_result",
     "data": {
      "text/plain": [
       "-0.40810176186455965"
      ]
     },
     "metadata": {},
     "execution_count": 77
    }
   ],
   "metadata": {}
  },
  {
   "cell_type": "code",
   "execution_count": 81,
   "source": [
    "# 求 pauli-Z 算符在演化的每一时刻的期望\r\n",
    "evalue = expect(sigmaz(), res.states)"
   ],
   "outputs": [],
   "metadata": {}
  },
  {
   "cell_type": "markdown",
   "source": [
    "### 画出 $\\sigma_z$ 期望值的演化图"
   ],
   "metadata": {}
  },
  {
   "cell_type": "code",
   "execution_count": 88,
   "source": [
    "plt.figure(figsize=(20,8), dpi=80)\r\n",
    "plt.plot(tls, evalue)\r\n",
    "\r\n",
    "plt.xlabel(r'$t$', fontsize=20)\r\n",
    "plt.ylabel(r'$<\\sigma_z >$', fontsize=20)\r\n",
    "plt.show()"
   ],
   "outputs": [
    {
     "output_type": "display_data",
     "data": {
      "image/png": "[encoded data removed]",
      "text/plain": [
       "<Figure size 1600x640 with 1 Axes>"
      ]
     },
     "metadata": {
      "needs_background": "light"
     }
    }
   ],
   "metadata": {}
  },
  {
   "cell_type": "markdown",
   "source": [
    "### 直接在 `mesolve` 里计算时就一并求解期望值"
   ],
   "metadata": {}
  },
  {
   "cell_type": "code",
   "execution_count": 89,
   "source": [
    "res = mesolve(H, psi0, tls, [], [sigmax(), sigmay(), sigmaz()])"
   ],
   "outputs": [],
   "metadata": {}
  },
  {
   "cell_type": "markdown",
   "source": [
    "现在，这些求解的期望值在 `res` 本身的属性里就有"
   ],
   "metadata": {}
  },
  {
   "cell_type": "code",
   "execution_count": 91,
   "source": [
    "res.expect[1]"
   ],
   "outputs": [
    {
     "output_type": "execute_result",
     "data": {
      "text/plain": [
       "array([ 0.        ,  0.2006488 ,  0.39313648,  0.56963387,  0.72296223,\n",
       "        0.84688518,  0.93636238,  0.98775449,  0.99897125,  0.96955644,\n",
       "        0.90070646,  0.79522165,  0.65739242,  0.49282475,  0.30821213,\n",
       "        0.11106341, -0.0906027 , -0.28858368, -0.4748269 , -0.64175721,\n",
       "       -0.782585  , -0.89158231, -0.9643159 , -0.99782745, -0.99075396,\n",
       "       -0.94338312, -0.85764166, -0.73701694, -0.58641519, -0.41196187,\n",
       "       -0.22075258, -0.02056446,  0.18046012,  0.37414472,  0.55261151,\n",
       "        0.70860162,  0.83577041,  0.92894553,  0.98433722,  0.99969255,\n",
       "        0.97438698,  0.90944976,  0.80752209,  0.67274971,  0.51061425,\n",
       "        0.32771028,  0.13147716, -0.07010365, -0.26883311, -0.45662814,\n",
       "       -0.62585046, -0.76961723, -0.88208098, -0.95866746, -0.99626163,\n",
       "       -0.99333444, -0.95000495, -0.86803551, -0.75076006, -0.60294861,\n",
       "       -0.4306131 , -0.24076303, -0.04112023,  0.16019512,  0.35499473,\n",
       "        0.53535543,  0.69394131,  0.82430216,  0.92113578,  0.98050363,\n",
       "        0.99999105,  0.97880541,  0.91780842,  0.81948101,  0.68782248,\n",
       "        0.52818781,  0.34706986,  0.15183532, -0.04957493, -0.24896882,\n",
       "       -0.43823622, -0.60967899, -0.75632395, -0.87220658, -0.95261354,\n",
       "       -0.99427444, -0.9954948 , -0.95622499, -0.87806224, -0.76418567,\n",
       "       -0.61922703, -0.44908224, -0.26067167, -0.06165863,  0.13986233,\n",
       "        0.33569458,  0.5178729 ,  0.67898749,  0.81248527,  0.91293644])"
      ]
     },
     "metadata": {},
     "execution_count": 91
    }
   ],
   "metadata": {}
  },
  {
   "cell_type": "markdown",
   "source": [
    "### 画图"
   ],
   "metadata": {}
  },
  {
   "cell_type": "code",
   "execution_count": 98,
   "source": [
    "fig, axes = plt.subplots(1, 1)\r\n",
    "\r\n",
    "for i in range(3):\r\n",
    "    axes.plot(tls, res.expect[i], label=f'$<\\sigma_{chr(120+i)}>$')\r\n",
    "\r\n",
    "axes.set_xlabel(r'$t$', fontsize=20)\r\n",
    "axes.set_ylabel(\"expect\", fontsize=20)\r\n",
    "axes.legend(loc=2, fontsize=10)"
   ],
   "outputs": [
    {
     "output_type": "execute_result",
     "data": {
      "text/plain": [
       "<matplotlib.legend.Legend at 0x2a568575cd0>"
      ]
     },
     "metadata": {},
     "execution_count": 98
    },
    {
     "output_type": "display_data",
     "data": {
      "image/png": "[encoded data removed]",
      "text/plain": [
       "<Figure size 432x288 with 1 Axes>"
      ]
     },
     "metadata": {
      "needs_background": "light"
     }
    }
   ],
   "metadata": {}
  },
  {
   "cell_type": "markdown",
   "source": [
    "### 有耗散的动力学\r\n",
    "耗散算符: $\\sqrt{\\kappa}a$"
   ],
   "metadata": {}
  },
  {
   "cell_type": "code",
   "execution_count": 102,
   "source": [
    "omega = 1.0\r\n",
    "kappa = 0.1 # 耗散率\r\n",
    "\r\n",
    "a = destroy(10)\r\n",
    "rho = fock_dm(10, 5)\r\n",
    "\r\n",
    "H = omega * a.dag() * a\r\n",
    "H\r\n"
   ],
   "outputs": [
    {
     "output_type": "execute_result",
     "data": {
      "text/latex": [
       "Quantum object: dims = [[10], [10]], shape = (10, 10), type = oper, isherm = True\\begin{equation*}\\left(\\begin{array}{*{11}c}0.0 & 0.0 & 0.0 & 0.0 & 0.0 & 0.0 & 0.0 & 0.0 & 0.0 & 0.0\\\\0.0 & 1.0 & 0.0 & 0.0 & 0.0 & 0.0 & 0.0 & 0.0 & 0.0 & 0.0\\\\0.0 & 0.0 & 2.0 & 0.0 & 0.0 & 0.0 & 0.0 & 0.0 & 0.0 & 0.0\\\\0.0 & 0.0 & 0.0 & 3.000 & 0.0 & 0.0 & 0.0 & 0.0 & 0.0 & 0.0\\\\0.0 & 0.0 & 0.0 & 0.0 & 4.0 & 0.0 & 0.0 & 0.0 & 0.0 & 0.0\\\\0.0 & 0.0 & 0.0 & 0.0 & 0.0 & 5.0 & 0.0 & 0.0 & 0.0 & 0.0\\\\0.0 & 0.0 & 0.0 & 0.0 & 0.0 & 0.0 & 6.000 & 0.0 & 0.0 & 0.0\\\\0.0 & 0.0 & 0.0 & 0.0 & 0.0 & 0.0 & 0.0 & 7.0 & 0.0 & 0.0\\\\0.0 & 0.0 & 0.0 & 0.0 & 0.0 & 0.0 & 0.0 & 0.0 & 8.0 & 0.0\\\\0.0 & 0.0 & 0.0 & 0.0 & 0.0 & 0.0 & 0.0 & 0.0 & 0.0 & 9.0\\\\\\end{array}\\right)\\end{equation*}"
      ],
      "text/plain": [
       "Quantum object: dims = [[10], [10]], shape = (10, 10), type = oper, isherm = True\n",
       "Qobj data =\n",
       "[[0. 0. 0. 0. 0. 0. 0. 0. 0. 0.]\n",
       " [0. 1. 0. 0. 0. 0. 0. 0. 0. 0.]\n",
       " [0. 0. 2. 0. 0. 0. 0. 0. 0. 0.]\n",
       " [0. 0. 0. 3. 0. 0. 0. 0. 0. 0.]\n",
       " [0. 0. 0. 0. 4. 0. 0. 0. 0. 0.]\n",
       " [0. 0. 0. 0. 0. 5. 0. 0. 0. 0.]\n",
       " [0. 0. 0. 0. 0. 0. 6. 0. 0. 0.]\n",
       " [0. 0. 0. 0. 0. 0. 0. 7. 0. 0.]\n",
       " [0. 0. 0. 0. 0. 0. 0. 0. 8. 0.]\n",
       " [0. 0. 0. 0. 0. 0. 0. 0. 0. 9.]]"
      ]
     },
     "metadata": {},
     "execution_count": 102
    }
   ],
   "metadata": {}
  },
  {
   "cell_type": "code",
   "execution_count": 103,
   "source": [
    "# 耗散算符\r\n",
    "collapse = np.sqrt(kappa) * a"
   ],
   "outputs": [],
   "metadata": {}
  },
  {
   "cell_type": "code",
   "execution_count": 104,
   "source": [
    "tlist = np.linspace(0, 50, 100)\r\n",
    "\r\n",
    "res = mesolve(H, rho, tlist, [collapse], [a.dag() * a])"
   ],
   "outputs": [],
   "metadata": {}
  },
  {
   "cell_type": "markdown",
   "source": [
    "注意这里输入的 `c_ops` 以及 `e_ops` 都必须是一列算符，如果只有一个算符，也需要给外面加上列表，输入一个只有单元素的列表"
   ],
   "metadata": {}
  },
  {
   "cell_type": "code",
   "execution_count": 111,
   "source": [
    "fig, axes = plt.subplots(1, 1)\r\n",
    "\r\n",
    "axes.plot(tlist, res.expect[0], label='Photon number')\r\n",
    "axes.set_xlabel('$t$', fontsize=20)\r\n",
    "axes.set_ylabel(r'Photon number', fontsize=20)\r\n",
    "axes.legend(loc=1)"
   ],
   "outputs": [
    {
     "output_type": "execute_result",
     "data": {
      "text/plain": [
       "<matplotlib.legend.Legend at 0x2a567e632b0>"
      ]
     },
     "metadata": {},
     "execution_count": 111
    },
    {
     "output_type": "display_data",
     "data": {
      "image/png": "[encoded data removed]",
      "text/plain": [
       "<Figure size 432x288 with 1 Axes>"
      ]
     },
     "metadata": {
      "needs_background": "light"
     }
    }
   ],
   "metadata": {}
  },
  {
   "cell_type": "markdown",
   "source": [
    "## Software versions"
   ],
   "metadata": {}
  },
  {
   "cell_type": "code",
   "execution_count": 113,
   "source": [
    "from qutip.ipynbtools import version_table\r\n",
    "\r\n",
    "version_table()"
   ],
   "outputs": [
    {
     "output_type": "execute_result",
     "data": {
      "text/html": [
       "<table><tr><th>Software</th><th>Version</th></tr><tr><td>QuTiP</td><td>4.6.2</td></tr><tr><td>Numpy</td><td>1.20.3</td></tr><tr><td>SciPy</td><td>1.7.1</td></tr><tr><td>matplotlib</td><td>3.4.2</td></tr><tr><td>Cython</td><td>0.29.24</td></tr><tr><td>Number of CPUs</td><td>8</td></tr><tr><td>BLAS Info</td><td>INTEL MKL</td></tr><tr><td>IPython</td><td>7.27.0</td></tr><tr><td>Python</td><td>3.9.7 (default, Sep 16 2021, 16:59:28) [MSC v.1916 64 bit (AMD64)]</td></tr><tr><td>OS</td><td>nt [win32]</td></tr><tr><td colspan='2'>Mon Sep 27 16:35:44 2021 中国标准时间</td></tr></table>"
      ],
      "text/plain": [
       "<IPython.core.display.HTML object>"
      ]
     },
     "metadata": {},
     "execution_count": 113
    }
   ],
   "metadata": {}
  },
  {
   "cell_type": "code",
   "execution_count": null,
   "source": [],
   "outputs": [],
   "metadata": {}
  }
 ],
 "metadata": {
  "orig_nbformat": 4,
  "language_info": {
   "name": "python",
   "version": "3.9.7",
   "mimetype": "text/x-python",
   "codemirror_mode": {
    "name": "ipython",
    "version": 3
   },
   "pygments_lexer": "ipython3",
   "nbconvert_exporter": "python",
   "file_extension": ".py"
  },
  "kernelspec": {
   "name": "python3",
   "display_name": "Python 3.9.7 64-bit ('qutip_env': conda)"
  },
  "interpreter": {
   "hash": "9f30c926f29d7795a8de6ac9e3568a20b471e5ad7fd85382f825cfd7cd6addb9"
  }
 },
 "nbformat": 4,
 "nbformat_minor": 2
}